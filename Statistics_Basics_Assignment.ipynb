{
  "nbformat": 4,
  "nbformat_minor": 0,
  "metadata": {
    "colab": {
      "provenance": []
    },
    "kernelspec": {
      "name": "python3",
      "display_name": "Python 3"
    },
    "language_info": {
      "name": "python"
    }
  },
  "cells": [
    {
      "cell_type": "markdown",
      "source": [
        "#Statistics_Basics_Assignment"
      ],
      "metadata": {
        "id": "DnEof4PCtxHP"
      }
    },
    {
      "cell_type": "markdown",
      "source": [
        "1) Explain the different types of data (qualitative and quantitative) and provide examples of each. Discuss nominal, ordinal, interval, and ratio scales.\n",
        "- Data is classified into qualitative (categorical) and quantitative (numerical) types.\n",
        "\n",
        " Qualitative data represents non-numerical attributes, such as colors or names. It includes:\n",
        "\n",
        " Nominal scale: Categories without a meaningful order (e.g., eye color: brown, blue, green).\n",
        "\n",
        " Ordinal scale: Categories with a meaningful order but no consistent difference (e.g., education level: primary, secondary, higher).\n",
        "\n",
        " Quantitative data represents numerical values and includes:\n",
        "\n",
        " Interval scale: Numeric values without a true zero (e.g., temperature in Celsius).\n",
        "\n",
        " Ratio scale: Numeric values with a true zero, allowing meaningful comparisons (e.g., weight, height).\n",
        "\n",
        "2) What are the measures of central tendency, and when should you use each? Discuss the mean, median, and mode with examples and situations where each is appropriate.\n",
        "- Measures of central tendency describe the center of a dataset:\n",
        "\n",
        " Mean (average): Used when data has no extreme values (e.g., calculating the average salary of employees).\n",
        "\n",
        " Median (middle value): Used when data has outliers (e.g., measuring house prices where a few very high prices could skew the mean).\n",
        "\n",
        " Mode (most frequent value): Used for categorical data (e.g., finding the most preferred clothing brand).\n",
        " Each measure helps summarize data distribution effectively based on the situation.\n",
        "\n",
        "3) Explain the concept of dispersion. How do variance and standard deviation measure the spread of data?\n",
        "- Dispersion refers to the spread or variability of data. It helps understand data consistency.\n",
        "\n",
        " Variance measures the average squared deviation from the mean, indicating data spread.\n",
        "\n",
        " Standard deviation is the square root of variance, representing how much values deviate from the mean in original units.\n",
        "\n",
        " Higher variance and standard deviation indicate greater variability, while lower values suggest consistency.\n",
        "\n",
        "4) What is a box plot, and what can it tell you about the distribution of data?\n",
        " A box plot is a graphical representation of data distribution using five key statistics: minimum, first quartile (Q1), median, third quartile (Q3), and maximum.\n",
        "\n",
        " It shows data spread, skewness, and outliers.\n",
        "\n",
        " A longer box or whisker indicates higher variability.\n",
        "\n",
        " If the median is closer to Q1 or Q3, the data is skewed.\n",
        "\n",
        " Outliers appear as points beyond the whiskers, indicating extreme values.\n",
        "\n",
        "5) Discuss the role of random sampling in making inferences about populations.\n",
        "- Random sampling is a technique used to select a representative subset from a population, ensuring unbiased results.\n",
        "\n",
        " It reduces selection bias and increases the accuracy of statistical inferences.\n",
        "\n",
        " A well-randomized sample provides better population estimates.\n",
        "\n",
        " It is commonly used in surveys, experiments, and research studies for making valid conclusions.\n",
        "\n",
        "6) Explain the concept of skewness and its types. How does skewness affect the interpretation of data?\n",
        "- Skewness measures the asymmetry of a data distribution. It affects the relationship between the mean, median, and mode.\n",
        "\n",
        " Positive skew (right-skewed): The right tail is longer; mean > median (e.g., income distribution).\n",
        "\n",
        " Negative skew (left-skewed): The left tail is longer; mean < median (e.g., exam scores with many high marks).\n",
        "\n",
        " No skew (symmetric): Mean ≈ Median ≈ Mode (e.g., normal distribution).\n",
        " Skewness influences data interpretation and statistical analysis.\n",
        "\n",
        "7) What is the interquartile range (IQR), and how is it used to detect outliers?\n",
        "- IQR (Interquartile Range) = Q3 - Q1 measures data spread by considering the\n",
        " middle 50% of values.\n",
        "\n",
        " It is used to detect outliers, which are values lying beyond:\n",
        "\n",
        " Lower Bound: Q1 - 1.5 × IQR\n",
        "\n",
        " Upper Bound: Q3 + 1.5 × IQR\n",
        "\n",
        " Outliers are extreme values that may indicate errors or special cases.\n",
        "\n",
        "8) Discuss the conditions under which the binomial distribution is used.\n",
        "- A binomial distribution is applicable when an experiment meets these conditions:\n",
        "\n",
        " Fixed number of trials (n).\n",
        "\n",
        " Only two possible outcomes per trial: success (p) or failure (1-p).\n",
        "\n",
        " Constant probability of success (p) in each trial.\n",
        "\n",
        " Independent trials, meaning one trial does not affect the outcome of another.\n",
        "\n",
        " Example: Flipping a coin 10 times and counting the number of heads follows a binomial distribution.\n",
        "\n",
        "9) Explain the properties of the normal distribution and the empirical rule (68-95-99.7 rule).\n",
        "- A normal distribution is a symmetric, bell-shaped curve where:\n",
        "\n",
        " The mean, median, and mode are equal.\n",
        "\n",
        " Most values cluster around the center, with fewer at the extremes.\n",
        " The Empirical Rule states that in a normal distribution:\n",
        "\n",
        " 68% of data lies within 1 standard deviation (σ) of the mean (μ).\n",
        "\n",
        " 95% of data lies within 2σ of the mean.\n",
        "\n",
        " 99.7% of data lies within 3σ of the mean.\n",
        "\n",
        " It is widely used in probability, statistics, and real-world applications.\n",
        "\n",
        "\n",
        "\n",
        "\n",
        "\n",
        "\n"
      ],
      "metadata": {
        "id": "J1AaHB9Tt06d"
      }
    },
    {
      "cell_type": "code",
      "source": [
        "#10) Provide a real-life example of a Poisson process and calculate the probability for a specific event.\n",
        "'''\n",
        " Answer: - A Poisson process models the occurrence of rare events over time or space.\n",
        " Example: A call center receives an average of 10 calls per hour. The probability of receiving exactly 8 calls can be calculated using the Poisson formula:\n",
        "\n",
        " 𝑃(𝑥)=[𝑒^(−𝜆)*𝜆^(𝑥)]/𝑥!\n",
        "\n",
        " Where λ = 10 (average calls per hour) and x = 8 (desired outcome).\n",
        " By substituting values, we can calculate the probability.\n",
        " P(8)= 40320/4540 ≈ 0.1126\n",
        " P(8)≈0.1126 or 11.26% '''\n",
        "\n",
        "import math\n",
        "\n",
        "# Given values\n",
        "λ = 10  # Average number of calls per hour\n",
        "x = 8   # Desired number of calls\n",
        "\n",
        "# Step 1: Compute e^(-λ)\n",
        "e_power_neg_lambda = math.exp(-λ)\n",
        "\n",
        "# Step 2: Compute λ^x\n",
        "lambda_power_x = λ**x\n",
        "\n",
        "# Step 3: Compute x! (Factorial of x)\n",
        "x_factorial = math.factorial(x)\n",
        "\n",
        "# Step 4: Compute Poisson Probability using the formula\n",
        "poisson_probability = (e_power_neg_lambda * lambda_power_x) / x_factorial\n",
        "\n",
        "# Display the results\n",
        "print(\"Step 1: e^(-λ) =\", e_power_neg_lambda)\n",
        "print(\"Step 2: λ^x =\", lambda_power_x)\n",
        "print(\"Step 3: x! =\", x_factorial)\n",
        "print(\"Step 4: Poisson Probability P(8) =\", poisson_probability)\n"
      ],
      "metadata": {
        "colab": {
          "base_uri": "https://localhost:8080/"
        },
        "id": "GH7pwwVAxFb7",
        "outputId": "3c106c9d-8e90-4ca5-914b-2a3eaa21ccf6"
      },
      "execution_count": 2,
      "outputs": [
        {
          "output_type": "stream",
          "name": "stdout",
          "text": [
            "Step 1: e^(-λ) = 4.5399929762484854e-05\n",
            "Step 2: λ^x = 100000000\n",
            "Step 3: x! = 40320\n",
            "Step 4: Poisson Probability P(8) = 0.11259903214901998\n"
          ]
        }
      ]
    },
    {
      "cell_type": "markdown",
      "source": [
        "11) Explain what a random variable is and differentiate between discrete and continuous random variables.\n",
        "- A random variable is a function that assigns numerical values to outcomes of a random experiment.\n",
        "\n",
        " Discrete random variable: Takes countable values (e.g., number of students in a class).\n",
        "\n",
        " Continuous random variable: Takes infinite values in a range (e.g., temperature, height).\n",
        " Discrete variables have probabilities assigned to individual values, while continuous ones use probability distributions."
      ],
      "metadata": {
        "id": "Ksav5MQCx8ZX"
      }
    },
    {
      "cell_type": "code",
      "source": [
        "#12)Provide an example dataset, calculate both covariance and correlation, and interpret the results.\n",
        "import numpy as np\n",
        "\n",
        "# Example dataset: Two variables X and Y\n",
        "X = np.array([2, 4, 6, 8, 10])\n",
        "Y = np.array([3, 6, 9, 12, 15])\n",
        "\n",
        "# Calculate Covariance\n",
        "covariance_matrix = np.cov(X, Y, bias=True)  # bias=True for population covariance\n",
        "covariance = covariance_matrix[0, 1]\n",
        "\n",
        "# Calculate Correlation\n",
        "correlation_matrix = np.corrcoef(X, Y)\n",
        "correlation = correlation_matrix[0, 1]\n",
        "\n",
        "# Display results\n",
        "print(\"Dataset X:\", X)\n",
        "print(\"Dataset Y:\", Y)\n",
        "print(\"Covariance between X and Y:\", covariance)\n",
        "print(\"Correlation between X and Y:\", correlation)\n",
        "\n"
      ],
      "metadata": {
        "colab": {
          "base_uri": "https://localhost:8080/"
        },
        "id": "iQvwKfkyyA72",
        "outputId": "a1f2e1ed-d1c4-472a-cd61-08b882298778"
      },
      "execution_count": 3,
      "outputs": [
        {
          "output_type": "stream",
          "name": "stdout",
          "text": [
            "Dataset X: [ 2  4  6  8 10]\n",
            "Dataset Y: [ 3  6  9 12 15]\n",
            "Covariance between X and Y: 12.0\n",
            "Correlation between X and Y: 1.0\n"
          ]
        }
      ]
    }
  ]
}